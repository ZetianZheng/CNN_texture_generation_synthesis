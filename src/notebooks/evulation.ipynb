{
 "metadata": {
  "language_info": {
   "codemirror_mode": {
    "name": "ipython",
    "version": 3
   },
   "file_extension": ".py",
   "mimetype": "text/x-python",
   "name": "python",
   "nbconvert_exporter": "python",
   "pygments_lexer": "ipython3",
   "version": "3.7.9-final"
  },
  "orig_nbformat": 2,
  "kernelspec": {
   "name": "python3",
   "display_name": "Python 3"
  }
 },
 "nbformat": 4,
 "nbformat_minor": 2,
 "cells": [
  {
   "cell_type": "code",
   "execution_count": 1,
   "metadata": {},
   "outputs": [
    {
     "output_type": "error",
     "ename": "ModuleNotFoundError",
     "evalue": "No module named 'model'",
     "traceback": [
      "\u001b[0;31m---------------------------------------------------------------------------\u001b[0m",
      "\u001b[0;31mModuleNotFoundError\u001b[0m                       Traceback (most recent call last)",
      "\u001b[0;32m<ipython-input-1-1305587c2ff1>\u001b[0m in \u001b[0;36m<module>\u001b[0;34m\u001b[0m\n\u001b[0;32m----> 1\u001b[0;31m \u001b[0;32mfrom\u001b[0m \u001b[0mmodel\u001b[0m\u001b[0;34m.\u001b[0m\u001b[0mcnn_image\u001b[0m \u001b[0;32mimport\u001b[0m \u001b[0;34m*\u001b[0m\u001b[0;34m\u001b[0m\u001b[0;34m\u001b[0m\u001b[0m\n\u001b[0m\u001b[1;32m      2\u001b[0m \u001b[0;32mfrom\u001b[0m \u001b[0mmodel\u001b[0m\u001b[0;34m.\u001b[0m\u001b[0mcnn_model\u001b[0m \u001b[0;32mimport\u001b[0m \u001b[0;34m*\u001b[0m\u001b[0;34m\u001b[0m\u001b[0;34m\u001b[0m\u001b[0m\n",
      "\u001b[0;31mModuleNotFoundError\u001b[0m: No module named 'model'"
     ]
    }
   ],
   "source": [
    "from model.cnn_image import *\n",
    "from model.cnn_model import *"
   ]
  },
  {
   "cell_type": "code",
   "execution_count": 3,
   "metadata": {},
   "outputs": [],
   "source": [
    "import time\n",
    "\n",
    "import torchvision\n",
    "import torchvision.transforms as transforms\n",
    "import torchvision.models as models"
   ]
  },
  {
   "cell_type": "code",
   "execution_count": 4,
   "metadata": {},
   "outputs": [],
   "source": [
    "device = torch.device(\"cuda\" if torch.cuda.is_available() else \"cpu\")"
   ]
  },
  {
   "cell_type": "code",
   "execution_count": 5,
   "metadata": {},
   "outputs": [],
   "source": [
    "# desired depth layers to compute style/content losses:\n",
    "default_style_layers = ['conv_1', 'conv_2', 'conv_3', 'conv_4', 'conv_5']"
   ]
  },
  {
   "cell_type": "code",
   "execution_count": 6,
   "metadata": {},
   "outputs": [],
   "source": [
    "def gram_matrix(x):\n",
    "    \"\"\" Calculate the gram martix based on the input tensor\n",
    "\n",
    "    input:\n",
    "        x (tensor): size: b, c, h, w\n",
    "\n",
    "    output:\n",
    "        gram (tensor): size: b*c, b*c\n",
    "    \"\"\"\n",
    "    # get input's dimension\n",
    "    b, c, h, w = x.size()\n",
    "\n",
    "    # calculate the gram martix\n",
    "    features = x.view(b * c, h * w)\n",
    "    G = torch.mm(features, features.t())\n",
    "\n",
    "    return G.div(b * c * h * w)"
   ]
  },
  {
   "cell_type": "code",
   "execution_count": 7,
   "metadata": {},
   "outputs": [],
   "source": [
    "def evaluation(pre_model, img_1, img_2,\n",
    "                   default_mean_std = True,\n",
    "                   style_layers=default_style_layers,\n",
    "                   weight = 1000000):\n",
    "    \"\"\" evaluate the style loss between two input images\n",
    "\n",
    "    input:\n",
    "        pre_model: used to evaluate the style \n",
    "\n",
    "    output:\n",
    "        style_losses (int): the style difference between the two input images\n",
    "    \"\"\"\n",
    "    # load the image\n",
    "    imsize = 512 if torch.cuda.is_available() else 128  # use small size if no gpu\n",
    "    img_1 = image_loader(img_1)\n",
    "    img_2 = image_loader(img_2)\n",
    "\n",
    "    cnn = copy.deepcopy(pre_model)\n",
    "\n",
    "    # normalization module\n",
    "    normalization = Normalization(default_mean_std = default_mean_std)\n",
    "\n",
    "    style_losses = 0\n",
    "\n",
    "    # create our model\n",
    "    model = nn.Sequential(normalization)\n",
    "\n",
    "    # increment every time we see a conv\n",
    "    i = 0  \n",
    "    # go through all the layers\n",
    "    for layer in cnn.children():\n",
    "        if isinstance(layer, nn.Conv2d):\n",
    "            i += 1\n",
    "            name = 'conv_{}'.format(i)\n",
    "        elif isinstance(layer, nn.ReLU):\n",
    "            name = 'relu_{}'.format(i)\n",
    "            # According to Alexis Jacq, the in-place version doesn't play \n",
    "            # very nicely with the ContentLoss with the ContentLoss and StyleLoss \n",
    "            # we insert below. So we replace with out-of-place ones here.\n",
    "            layer = nn.ReLU(inplace=False)\n",
    "        elif isinstance(layer, nn.MaxPool2d):\n",
    "            name = 'maxpool_{}'.format(i)\n",
    "        elif isinstance(layer, nn.BatchNorm2d):\n",
    "            name = 'bn_{}'.format(i)\n",
    "\n",
    "        model.add_module(name, layer)\n",
    "\n",
    "        if name in style_layers:\n",
    "            # add style loss:\n",
    "            # calculate target style\n",
    "            style_1 = model(img_1).detach()\n",
    "            style_1 = gram_matrix(style_1)\n",
    "            style_2 =  model(img_2).detach()\n",
    "            style_2 = gram_matrix(style_2)\n",
    "            # save the loss\n",
    "            style_losses += F.mse_loss(style_1, style_2) / len(style_layers)\n",
    "    \n",
    "    style_losses *= weight\n",
    "    return float(style_losses)"
   ]
  },
  {
   "cell_type": "code",
   "execution_count": 1,
   "metadata": {},
   "outputs": [
    {
     "output_type": "error",
     "ename": "NameError",
     "evalue": "name 'evaluation' is not defined",
     "traceback": [
      "\u001b[0;31m---------------------------------------------------------------------------\u001b[0m",
      "\u001b[0;31mNameError\u001b[0m                                 Traceback (most recent call last)",
      "\u001b[0;32m<ipython-input-1-10a9a12dd6aa>\u001b[0m in \u001b[0;36m<module>\u001b[0;34m\u001b[0m\n\u001b[0;32m----> 1\u001b[0;31m \u001b[0mevaluation\u001b[0m\u001b[0;34m(\u001b[0m\u001b[0mcnn\u001b[0m\u001b[0;34m,\u001b[0m\u001b[0;34m'../transfered_output/banded_0002/banded_0002_1.jpg'\u001b[0m\u001b[0;34m,\u001b[0m\u001b[0;34m'../transfered_output/banded_0002/banded_0002_2.jpg'\u001b[0m\u001b[0;34m)\u001b[0m\u001b[0;34m\u001b[0m\u001b[0;34m\u001b[0m\u001b[0m\n\u001b[0m",
      "\u001b[0;31mNameError\u001b[0m: name 'evaluation' is not defined"
     ]
    }
   ],
   "source": [
    "evaluation(cnn,'../transfered_output/banded_0002/banded_0002_1.jpg','../transfered_output/banded_0002/banded_0002_2.jpg')"
   ]
  },
  {
   "cell_type": "code",
   "execution_count": null,
   "metadata": {},
   "outputs": [],
   "source": []
  }
 ]
}