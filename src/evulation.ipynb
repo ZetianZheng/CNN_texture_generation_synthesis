{
 "metadata": {
  "language_info": {
   "codemirror_mode": {
    "name": "ipython",
    "version": 3
   },
   "file_extension": ".py",
   "mimetype": "text/x-python",
   "name": "python",
   "nbconvert_exporter": "python",
   "pygments_lexer": "ipython3",
   "version": "3.7.9-final"
  },
  "orig_nbformat": 2,
  "kernelspec": {
   "name": "python3",
   "display_name": "Python 3"
  }
 },
 "nbformat": 4,
 "nbformat_minor": 2,
 "cells": [
  {
   "cell_type": "code",
   "execution_count": 2,
   "metadata": {},
   "outputs": [],
   "source": [
    "from model.cnn_image import *\n",
    "from model.cnn_model import *"
   ]
  },
  {
   "cell_type": "code",
   "execution_count": 3,
   "metadata": {},
   "outputs": [],
   "source": [
    "import time\n",
    "\n",
    "import torchvision\n",
    "import torchvision.transforms as transforms\n",
    "import torchvision.models as models"
   ]
  },
  {
   "cell_type": "code",
   "execution_count": 4,
   "metadata": {},
   "outputs": [],
   "source": [
    "device = torch.device(\"cuda\" if torch.cuda.is_available() else \"cpu\")"
   ]
  },
  {
   "cell_type": "code",
   "execution_count": 5,
   "metadata": {},
   "outputs": [],
   "source": [
    "# desired depth layers to compute style/content losses:\n",
    "default_style_layers = ['conv_1', 'conv_2', 'conv_3', 'conv_4', 'conv_5']"
   ]
  },
  {
   "cell_type": "code",
   "execution_count": 6,
   "metadata": {},
   "outputs": [],
   "source": [
    "def gram_matrix(x):\n",
    "    \"\"\" Calculate the gram martix based on the input tensor\n",
    "\n",
    "    input:\n",
    "        x (tensor): size: b, c, h, w\n",
    "\n",
    "    output:\n",
    "        gram (tensor): size: b*c, b*c\n",
    "    \"\"\"\n",
    "    # get input's dimension\n",
    "    b, c, h, w = x.size()\n",
    "\n",
    "    # calculate the gram martix\n",
    "    features = x.view(b * c, h * w)\n",
    "    G = torch.mm(features, features.t())\n",
    "\n",
    "    return G.div(b * c * h * w)"
   ]
  },
  {
   "cell_type": "code",
   "execution_count": 7,
   "metadata": {},
   "outputs": [],
   "source": [
    "def evaluation(pre_model, img_1, img_2,\n",
    "                   default_mean_std = True,\n",
    "                   style_layers=default_style_layers,\n",
    "                   weight = 1000000):\n",
    "    \"\"\" evaluate the style loss between two input images\n",
    "\n",
    "    input:\n",
    "        pre_model: used to evaluate the style \n",
    "\n",
    "    output:\n",
    "        style_losses (int): the style difference between the two input images\n",
    "    \"\"\"\n",
    "    # load the image\n",
    "    imsize = 512 if torch.cuda.is_available() else 128  # use small size if no gpu\n",
    "    img_1 = image_loader(img_1)\n",
    "    img_2 = image_loader(img_2)\n",
    "\n",
    "    cnn = copy.deepcopy(pre_model)\n",
    "\n",
    "    # normalization module\n",
    "    normalization = Normalization(default_mean_std = default_mean_std)\n",
    "\n",
    "    style_losses = 0\n",
    "\n",
    "    # create our model\n",
    "    model = nn.Sequential(normalization)\n",
    "\n",
    "    # increment every time we see a conv\n",
    "    i = 0  \n",
    "    # go through all the layers\n",
    "    for layer in cnn.children():\n",
    "        if isinstance(layer, nn.Conv2d):\n",
    "            i += 1\n",
    "            name = 'conv_{}'.format(i)\n",
    "        elif isinstance(layer, nn.ReLU):\n",
    "            name = 'relu_{}'.format(i)\n",
    "            # According to Alexis Jacq, the in-place version doesn't play \n",
    "            # very nicely with the ContentLoss with the ContentLoss and StyleLoss \n",
    "            # we insert below. So we replace with out-of-place ones here.\n",
    "            layer = nn.ReLU(inplace=False)\n",
    "        elif isinstance(layer, nn.MaxPool2d):\n",
    "            name = 'maxpool_{}'.format(i)\n",
    "        elif isinstance(layer, nn.BatchNorm2d):\n",
    "            name = 'bn_{}'.format(i)\n",
    "\n",
    "        model.add_module(name, layer)\n",
    "\n",
    "        if name in style_layers:\n",
    "            # add style loss:\n",
    "            # calculate target style\n",
    "            style_1 = model(img_1).detach()\n",
    "            style_1 = gram_matrix(style_1)\n",
    "            style_2 =  model(img_2).detach()\n",
    "            style_2 = gram_matrix(style_2)\n",
    "            # save the loss\n",
    "            style_losses += F.mse_loss(style_1, style_2) / len(style_layers)\n",
    "    \n",
    "    style_losses *= weight\n",
    "    return float(style_losses)"
   ]
  },
  {
   "cell_type": "code",
   "execution_count": 13,
   "metadata": {},
   "outputs": [
    {
     "output_type": "execute_result",
     "data": {
      "text/plain": [
       "148.60081481933594"
      ]
     },
     "metadata": {},
     "execution_count": 13
    }
   ],
   "source": [
    "evaluation(cnn,'../data/NST_sunset/sunset.jpg','../data/NST_sunset/creek.jpg')"
   ]
  },
  {
   "cell_type": "code",
   "execution_count": 9,
   "metadata": {},
   "outputs": [
    {
     "output_type": "execute_result",
     "data": {
      "text/plain": [
       "1168.21533203125"
      ]
     },
     "metadata": {},
     "execution_count": 9
    }
   ],
   "source": [
    "evaluation(cnn,'../data/Archive/monet.jpg','../data/Archive/generated_2.png')"
   ]
  },
  {
   "cell_type": "code",
   "execution_count": 10,
   "metadata": {},
   "outputs": [
    {
     "output_type": "execute_result",
     "data": {
      "text/plain": [
       "778.9014892578125"
      ]
     },
     "metadata": {},
     "execution_count": 10
    }
   ],
   "source": [
    "evaluation(cnn,'../data/Archive/monet.jpg','../data/Archive/generated_3.png')"
   ]
  },
  {
   "cell_type": "code",
   "execution_count": 11,
   "metadata": {},
   "outputs": [
    {
     "output_type": "execute_result",
     "data": {
      "text/plain": [
       "721.6502075195312"
      ]
     },
     "metadata": {},
     "execution_count": 11
    }
   ],
   "source": [
    "evaluation(cnn,'../data/Archive/monet.jpg','../data/Archive/generated_4.png')"
   ]
  },
  {
   "cell_type": "code",
   "execution_count": 12,
   "metadata": {},
   "outputs": [
    {
     "output_type": "execute_result",
     "data": {
      "text/plain": [
       "425.1832580566406"
      ]
     },
     "metadata": {},
     "execution_count": 12
    }
   ],
   "source": [
    "evaluation(cnn,'../data/Archive/monet.jpg','../data/Archive/generated_5.png')"
   ]
  },
  {
   "cell_type": "code",
   "execution_count": 14,
   "metadata": {},
   "outputs": [
    {
     "output_type": "execute_result",
     "data": {
      "text/plain": [
       "144.64358520507812"
      ]
     },
     "metadata": {},
     "execution_count": 14
    }
   ],
   "source": [
    "evaluation(cnn,'../data/NST_sunset/sunset.jpg','../data/NST_sunset/forest.jpg')"
   ]
  },
  {
   "cell_type": "code",
   "execution_count": 15,
   "metadata": {},
   "outputs": [
    {
     "output_type": "execute_result",
     "data": {
      "text/plain": [
       "209.24351501464844"
      ]
     },
     "metadata": {},
     "execution_count": 15
    }
   ],
   "source": [
    "evaluation(cnn,'../data/NST_sunset/sunset.jpg','../data/NST_sunset/mount.jpg')"
   ]
  },
  {
   "cell_type": "code",
   "execution_count": 16,
   "metadata": {},
   "outputs": [
    {
     "output_type": "execute_result",
     "data": {
      "text/plain": [
       "158.40805053710938"
      ]
     },
     "metadata": {},
     "execution_count": 16
    }
   ],
   "source": [
    "evaluation(cnn,'../data/NST_sunset/sunset.jpg','../data/NST_sunset/river.jpg')"
   ]
  },
  {
   "cell_type": "code",
   "execution_count": 17,
   "metadata": {},
   "outputs": [
    {
     "output_type": "execute_result",
     "data": {
      "text/plain": [
       "145.9829864501953"
      ]
     },
     "metadata": {},
     "execution_count": 17
    }
   ],
   "source": [
    "evaluation(cnn,'../data/NST_sunset/sunset.jpg','../data/NST_sunset/tree.jpg')"
   ]
  },
  {
   "cell_type": "code",
   "execution_count": 18,
   "metadata": {},
   "outputs": [
    {
     "output_type": "execute_result",
     "data": {
      "text/plain": [
       "578.5653076171875"
      ]
     },
     "metadata": {},
     "execution_count": 18
    }
   ],
   "source": [
    "evaluation(cnn,'../data/lotus/lotus.jpg','../data/lotus/forest.jpg')"
   ]
  },
  {
   "cell_type": "code",
   "execution_count": null,
   "metadata": {},
   "outputs": [],
   "source": []
  }
 ]
}