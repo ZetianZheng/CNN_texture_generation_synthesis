{
 "metadata": {
  "language_info": {
   "codemirror_mode": {
    "name": "ipython",
    "version": 3
   },
   "file_extension": ".py",
   "mimetype": "text/x-python",
   "name": "python",
   "nbconvert_exporter": "python",
   "pygments_lexer": "ipython3",
   "version": "3.7.9-final"
  },
  "orig_nbformat": 2,
  "kernelspec": {
   "name": "python3",
   "display_name": "Python 3"
  }
 },
 "nbformat": 4,
 "nbformat_minor": 2,
 "cells": [
  {
   "cell_type": "code",
   "execution_count": 9,
   "metadata": {},
   "outputs": [],
   "source": [
    "import os\n",
    "from os.path import join\n",
    "import glob"
   ]
  },
  {
   "cell_type": "code",
   "execution_count": 10,
   "metadata": {},
   "outputs": [],
   "source": [
    "g='../data/results_np'"
   ]
  },
  {
   "cell_type": "code",
   "execution_count": 17,
   "metadata": {},
   "outputs": [],
   "source": [
    "imgs_original = []\n",
    "imgs_generated = []"
   ]
  },
  {
   "cell_type": "code",
   "execution_count": 30,
   "metadata": {},
   "outputs": [],
   "source": [
    "x = glob.glob(os.path.join(g,'*'))\n",
    "for fname in x:\n",
    "    for iname in os.listdir(fname):\n",
    "        if iname[-5] == '0':\n",
    "            imgs_original.append(join(fname,iname))\n",
    "        elif int(iname[-5]) > 0:\n",
    "            imgs_generated.append(join(fname,iname))\n",
    "# print(imgs_original,imgs_generated)"
   ]
  },
  {
   "cell_type": "code",
   "execution_count": 29,
   "metadata": {},
   "outputs": [],
   "source": [
    "imgs_pair = list(zip(imgs_original,imgs_generated))\n",
    "# print(tuple(x))\n",
    "# print(x[0][0],x[0][1])"
   ]
  },
  {
   "cell_type": "code",
   "execution_count": 39,
   "metadata": {},
   "outputs": [
    {
     "output_type": "stream",
     "name": "stdout",
     "text": [
      "pleated_0101\npleated_0102\npleated_0154\nblotchy_0003\nblotchy_0064\nblotchy_0053\ncrystalline_0171\ncrystalline_0135\ncrystalline_0107\nbanded_0036\nbanded_0008\nbanded_0002\nsprinkled_0118\nsprinkled_0039\nsprinkled_0036\nbumpy_0024\nbumpy_0059\nbumpy_0118\ndotted_0038\ndotted_0062\ndotted_0126\ninterlaced_0002\ninterlaced_0201\ninterlaced_0072\nsmeared_0040\nsmeared_0141\nsmeared_0122\nbraided_0002\nbraided_0050\nbraided_0128\n"
     ]
    }
   ],
   "source": [
    "for i in imgs_pair:\n",
    "    # print(i[0],i[1])\n",
    "    a = i[0].split(\"/\",-1)\n",
    "    print(a[-1][:-6])"
   ]
  },
  {
   "cell_type": "code",
   "execution_count": null,
   "metadata": {},
   "outputs": [],
   "source": []
  }
 ]
}