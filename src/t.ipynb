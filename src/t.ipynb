{
 "metadata": {
  "language_info": {
   "codemirror_mode": {
    "name": "ipython",
    "version": 3
   },
   "file_extension": ".py",
   "mimetype": "text/x-python",
   "name": "python",
   "nbconvert_exporter": "python",
   "pygments_lexer": "ipython3",
   "version": "3.7.9-final"
  },
  "orig_nbformat": 2,
  "kernelspec": {
   "name": "python3",
   "display_name": "Python 3"
  }
 },
 "nbformat": 4,
 "nbformat_minor": 2,
 "cells": [
  {
   "cell_type": "code",
   "execution_count": 9,
   "metadata": {},
   "outputs": [],
   "source": [
    "import os\n",
    "from os.path import join\n",
    "import glob"
   ]
  },
  {
   "cell_type": "code",
   "execution_count": 10,
   "metadata": {},
   "outputs": [],
   "source": [
    "g='../data/results_np'"
   ]
  },
  {
   "cell_type": "code",
   "execution_count": 17,
   "metadata": {},
   "outputs": [],
   "source": [
    "imgs_original = []\n",
    "imgs_generated = []"
   ]
  },
  {
   "cell_type": "code",
   "execution_count": 30,
   "metadata": {},
   "outputs": [],
   "source": [
    "x = glob.glob(os.path.join(g,'*'))\n",
    "for fname in x:\n",
    "    for iname in os.listdir(fname):\n",
    "        if iname[-5] == '0':\n",
    "            imgs_original.append(join(fname,iname))\n",
    "        elif int(iname[-5]) > 0:\n",
    "            imgs_generated.append(join(fname,iname))\n",
    "# print(imgs_original,imgs_generated)"
   ]
  },
  {
   "cell_type": "code",
   "execution_count": 29,
   "metadata": {},
   "outputs": [],
   "source": [
    "imgs_pair = list(zip(imgs_original,imgs_generated))\n",
    "# print(tuple(x))\n",
    "# print(x[0][0],x[0][1])"
   ]
  },
  {
   "cell_type": "code",
   "execution_count": 34,
   "metadata": {},
   "outputs": [
    {
     "output_type": "stream",
     "name": "stdout",
     "text": [
      "../data/results_np/pleated/pleated_0101_0.jpg ../data/results_np/pleated/pleated_0101_1.jpg\n../data/results_np/pleated/pleated_0102_0.jpg ../data/results_np/pleated/pleated_0102_1.jpg\n../data/results_np/pleated/pleated_0154_0.jpg ../data/results_np/pleated/pleated_0154_1.jpg\n../data/results_np/blotchy/blotchy_0003_0.jpg ../data/results_np/blotchy/blotchy_0003_1.jpg\n../data/results_np/blotchy/blotchy_0064_0.jpg ../data/results_np/blotchy/blotchy_0064_1.jpg\n../data/results_np/blotchy/blotchy_0053_0.jpg ../data/results_np/blotchy/blotchy_0053_1.jpg\n../data/results_np/crystalline/crystalline_0171_0.jpg ../data/results_np/crystalline/crystalline_0171_1.jpg\n../data/results_np/crystalline/crystalline_0135_0.jpg ../data/results_np/crystalline/crystalline_0135_1.jpg\n../data/results_np/crystalline/crystalline_0107_0.jpg ../data/results_np/crystalline/crystalline_0107_1.jpg\n../data/results_np/banded/banded_0036_0.jpg ../data/results_np/banded/banded_0036_1.jpg\n../data/results_np/banded/banded_0008_0.jpg ../data/results_np/banded/banded_0008_1.jpg\n../data/results_np/banded/banded_0002_0.jpg ../data/results_np/banded/banded_0002_1.jpg\n../data/results_np/sprinkled/sprinkled_0118_0.jpg ../data/results_np/sprinkled/sprinkled_0118_1.jpg\n../data/results_np/sprinkled/sprinkled_0039_0.jpg ../data/results_np/sprinkled/sprinkled_0039_1.jpg\n../data/results_np/sprinkled/sprinkled_0036_0.jpg ../data/results_np/sprinkled/sprinkled_0036_1.jpg\n../data/results_np/bumpy/bumpy_0024_0.jpg ../data/results_np/bumpy/bumpy_0024_1.jpg\n../data/results_np/bumpy/bumpy_0059_0.jpg ../data/results_np/bumpy/bumpy_0118_1.jpg\n../data/results_np/bumpy/bumpy_0118_0.jpg ../data/results_np/bumpy/bumpy_0059_1.jpg\n../data/results_np/dotted/dotted_0038_0.jpg ../data/results_np/dotted/dotted_0038_1.jpg\n../data/results_np/dotted/dotted_0062_0.jpg ../data/results_np/dotted/dotted_0062_1.jpg\n../data/results_np/dotted/dotted_0126_0.jpg ../data/results_np/dotted/dotted_0126_1.jpg\n../data/results_np/interlaced/interlaced_0002_0.jpg ../data/results_np/interlaced/interlaced_0002_1.jpg\n../data/results_np/interlaced/interlaced_0201_0.jpg ../data/results_np/interlaced/interlaced_0201_1.jpg\n../data/results_np/interlaced/interlaced_0072_0.jpg ../data/results_np/interlaced/interlaced_0072_1.jpg\n../data/results_np/smeared/smeared_0040_0.jpg ../data/results_np/smeared/smeared_0040_1.jpg\n../data/results_np/smeared/smeared_0141_0.jpg ../data/results_np/smeared/smeared_0141_1.jpg\n../data/results_np/smeared/smeared_0122_0.jpg ../data/results_np/smeared/smeared_0122_1.jpg\n../data/results_np/braided/braided_0002_0.jpg ../data/results_np/braided/braided_0002_1.jpg\n../data/results_np/braided/braided_0050_0.jpg ../data/results_np/braided/braided_0050_1.jpg\n../data/results_np/braided/braided_0128_0.jpg ../data/results_np/braided/braided_0128_1.jpg\n"
     ]
    }
   ],
   "source": [
    "for i in imgs_pair:\n",
    "    print(i[0],i[1])"
   ]
  },
  {
   "cell_type": "code",
   "execution_count": null,
   "metadata": {},
   "outputs": [],
   "source": []
  }
 ]
}